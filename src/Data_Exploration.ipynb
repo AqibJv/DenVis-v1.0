{
 "cells": [
  {
   "cell_type": "code",
   "execution_count": 1,
   "id": "3a9775fd",
   "metadata": {},
   "outputs": [],
   "source": [
    "import os\n",
    "import glob\n",
    "import pandas as pd\n",
    "import matplotlib\n",
    "from matplotlib import pyplot as plt\n",
    "%matplotlib inline"
   ]
  },
  {
   "cell_type": "code",
   "execution_count": 2,
   "id": "64a63bdd",
   "metadata": {},
   "outputs": [
    {
     "name": "stderr",
     "output_type": "stream",
     "text": [
      "C:\\Users\\drfak\\AppData\\Local\\Temp\\ipykernel_12608\\688209242.py:1: DtypeWarning: Columns (0,2,8) have mixed types. Specify dtype option on import or set low_memory=False.\n",
      "  df = pd.read_csv('Wholedata.csv')\n"
     ]
    }
   ],
   "source": [
    "df = pd.read_csv('Wholedata.csv')"
   ]
  },
  {
   "cell_type": "code",
   "execution_count": 3,
   "id": "8d394925",
   "metadata": {
    "scrolled": false
   },
   "outputs": [
    {
     "data": {
      "text/html": [
       "<div>\n",
       "<style scoped>\n",
       "    .dataframe tbody tr th:only-of-type {\n",
       "        vertical-align: middle;\n",
       "    }\n",
       "\n",
       "    .dataframe tbody tr th {\n",
       "        vertical-align: top;\n",
       "    }\n",
       "\n",
       "    .dataframe thead th {\n",
       "        text-align: right;\n",
       "    }\n",
       "</style>\n",
       "<table border=\"1\" class=\"dataframe\">\n",
       "  <thead>\n",
       "    <tr style=\"text-align: right;\">\n",
       "      <th></th>\n",
       "      <th>Ser.No.</th>\n",
       "      <th>Date</th>\n",
       "      <th>Age</th>\n",
       "      <th>Sex</th>\n",
       "      <th>Address</th>\n",
       "      <th>1st complaint</th>\n",
       "      <th>2nd Complaint</th>\n",
       "      <th>3rd Complaint</th>\n",
       "      <th>Unnamed: 8</th>\n",
       "    </tr>\n",
       "  </thead>\n",
       "  <tbody>\n",
       "    <tr>\n",
       "      <th>0</th>\n",
       "      <td>1</td>\n",
       "      <td>01.05.2011</td>\n",
       "      <td>18</td>\n",
       "      <td>Male</td>\n",
       "      <td>KOT ABDUL MALIK</td>\n",
       "      <td>fever</td>\n",
       "      <td>bodyaches</td>\n",
       "      <td>Headache</td>\n",
       "      <td>NaN</td>\n",
       "    </tr>\n",
       "    <tr>\n",
       "      <th>1</th>\n",
       "      <td>2</td>\n",
       "      <td>01.05.2011</td>\n",
       "      <td>40</td>\n",
       "      <td>Female</td>\n",
       "      <td>GUJRAT</td>\n",
       "      <td>bleeding</td>\n",
       "      <td>pain</td>\n",
       "      <td>RTA</td>\n",
       "      <td>NaN</td>\n",
       "    </tr>\n",
       "    <tr>\n",
       "      <th>2</th>\n",
       "      <td>3</td>\n",
       "      <td>01.05.2011</td>\n",
       "      <td>20</td>\n",
       "      <td>Male</td>\n",
       "      <td>GULSHAN RAVI</td>\n",
       "      <td>pain</td>\n",
       "      <td>bleeding</td>\n",
       "      <td>RTA</td>\n",
       "      <td>NaN</td>\n",
       "    </tr>\n",
       "    <tr>\n",
       "      <th>3</th>\n",
       "      <td>4</td>\n",
       "      <td>01.05.2011</td>\n",
       "      <td>18</td>\n",
       "      <td>Male</td>\n",
       "      <td>SAMANABAD</td>\n",
       "      <td>Pain</td>\n",
       "      <td>Anxiety</td>\n",
       "      <td>Dogbite</td>\n",
       "      <td>NaN</td>\n",
       "    </tr>\n",
       "    <tr>\n",
       "      <th>4</th>\n",
       "      <td>5</td>\n",
       "      <td>01.05.2011</td>\n",
       "      <td>40</td>\n",
       "      <td>Male</td>\n",
       "      <td>GOWALMANDI</td>\n",
       "      <td>Dyspnea</td>\n",
       "      <td>chest pain</td>\n",
       "      <td>RTI</td>\n",
       "      <td>NaN</td>\n",
       "    </tr>\n",
       "    <tr>\n",
       "      <th>...</th>\n",
       "      <td>...</td>\n",
       "      <td>...</td>\n",
       "      <td>...</td>\n",
       "      <td>...</td>\n",
       "      <td>...</td>\n",
       "      <td>...</td>\n",
       "      <td>...</td>\n",
       "      <td>...</td>\n",
       "      <td>...</td>\n",
       "    </tr>\n",
       "    <tr>\n",
       "      <th>133395</th>\n",
       "      <td>40610</td>\n",
       "      <td>31.08.2011</td>\n",
       "      <td>35</td>\n",
       "      <td>Female</td>\n",
       "      <td>ANARKALI</td>\n",
       "      <td>Vomiting</td>\n",
       "      <td>fever</td>\n",
       "      <td>nausea</td>\n",
       "      <td>NaN</td>\n",
       "    </tr>\n",
       "    <tr>\n",
       "      <th>133396</th>\n",
       "      <td>40611</td>\n",
       "      <td>31.08.2011</td>\n",
       "      <td>35</td>\n",
       "      <td>Female</td>\n",
       "      <td>GOWALMANDI,LAHORE</td>\n",
       "      <td>Arthritis</td>\n",
       "      <td>Anxiety</td>\n",
       "      <td>arthralgia</td>\n",
       "      <td>NaN</td>\n",
       "    </tr>\n",
       "    <tr>\n",
       "      <th>133397</th>\n",
       "      <td>40612</td>\n",
       "      <td>31.08.2011</td>\n",
       "      <td>18</td>\n",
       "      <td>Female</td>\n",
       "      <td>FAROOZWALA</td>\n",
       "      <td>Abdomen pain</td>\n",
       "      <td>Nausea</td>\n",
       "      <td>nausea</td>\n",
       "      <td>NaN</td>\n",
       "    </tr>\n",
       "    <tr>\n",
       "      <th>133398</th>\n",
       "      <td>40613</td>\n",
       "      <td>31.08.2011</td>\n",
       "      <td>46</td>\n",
       "      <td>Male</td>\n",
       "      <td>LOHARIGAT</td>\n",
       "      <td>Palpitation</td>\n",
       "      <td>anxiety</td>\n",
       "      <td>arthralgia</td>\n",
       "      <td>NaN</td>\n",
       "    </tr>\n",
       "    <tr>\n",
       "      <th>133399</th>\n",
       "      <td>40614</td>\n",
       "      <td>31.08.2011</td>\n",
       "      <td>18</td>\n",
       "      <td>Female</td>\n",
       "      <td>GOWALMANDI,LAHORE</td>\n",
       "      <td>Fever</td>\n",
       "      <td>headache</td>\n",
       "      <td>chills</td>\n",
       "      <td>NaN</td>\n",
       "    </tr>\n",
       "  </tbody>\n",
       "</table>\n",
       "<p>133400 rows × 9 columns</p>\n",
       "</div>"
      ],
      "text/plain": [
       "       Ser.No.        Date Age     Sex            Address 1st complaint  \\\n",
       "0            1  01.05.2011  18    Male    KOT ABDUL MALIK         fever   \n",
       "1            2  01.05.2011  40  Female             GUJRAT      bleeding   \n",
       "2            3  01.05.2011  20    Male       GULSHAN RAVI          pain   \n",
       "3            4  01.05.2011  18    Male          SAMANABAD          Pain   \n",
       "4            5  01.05.2011  40    Male        GOWALMANDI        Dyspnea   \n",
       "...        ...         ...  ..     ...                ...           ...   \n",
       "133395   40610  31.08.2011  35  Female           ANARKALI      Vomiting   \n",
       "133396   40611  31.08.2011  35  Female  GOWALMANDI,LAHORE     Arthritis   \n",
       "133397   40612  31.08.2011  18  Female         FAROOZWALA  Abdomen pain   \n",
       "133398   40613  31.08.2011  46    Male          LOHARIGAT   Palpitation   \n",
       "133399   40614  31.08.2011  18  Female  GOWALMANDI,LAHORE         Fever   \n",
       "\n",
       "       2nd Complaint 3rd Complaint Unnamed: 8  \n",
       "0          bodyaches      Headache        NaN  \n",
       "1               pain           RTA        NaN  \n",
       "2           bleeding           RTA        NaN  \n",
       "3            Anxiety       Dogbite        NaN  \n",
       "4         chest pain           RTI        NaN  \n",
       "...              ...           ...        ...  \n",
       "133395         fever        nausea        NaN  \n",
       "133396       Anxiety    arthralgia        NaN  \n",
       "133397        Nausea        nausea        NaN  \n",
       "133398       anxiety    arthralgia        NaN  \n",
       "133399      headache        chills        NaN  \n",
       "\n",
       "[133400 rows x 9 columns]"
      ]
     },
     "execution_count": 3,
     "metadata": {},
     "output_type": "execute_result"
    }
   ],
   "source": [
    "df"
   ]
  },
  {
   "cell_type": "code",
   "execution_count": 4,
   "id": "99b524b2",
   "metadata": {},
   "outputs": [
    {
     "data": {
      "text/plain": [
       "Index(['Ser.No.', 'Date', 'Age', 'Sex', 'Address', '1st complaint',\n",
       "       '2nd Complaint', '3rd Complaint', 'Unnamed: 8'],\n",
       "      dtype='object')"
      ]
     },
     "execution_count": 4,
     "metadata": {},
     "output_type": "execute_result"
    }
   ],
   "source": [
    "df.columns"
   ]
  },
  {
   "cell_type": "code",
   "execution_count": 5,
   "id": "95db7fb9",
   "metadata": {},
   "outputs": [],
   "source": [
    "del df['Unnamed: 8']"
   ]
  },
  {
   "cell_type": "code",
   "execution_count": 6,
   "id": "50a0cc5c",
   "metadata": {},
   "outputs": [
    {
     "data": {
      "text/html": [
       "<div>\n",
       "<style scoped>\n",
       "    .dataframe tbody tr th:only-of-type {\n",
       "        vertical-align: middle;\n",
       "    }\n",
       "\n",
       "    .dataframe tbody tr th {\n",
       "        vertical-align: top;\n",
       "    }\n",
       "\n",
       "    .dataframe thead th {\n",
       "        text-align: right;\n",
       "    }\n",
       "</style>\n",
       "<table border=\"1\" class=\"dataframe\">\n",
       "  <thead>\n",
       "    <tr style=\"text-align: right;\">\n",
       "      <th></th>\n",
       "      <th>Ser.No.</th>\n",
       "      <th>Date</th>\n",
       "      <th>Age</th>\n",
       "      <th>Sex</th>\n",
       "      <th>Address</th>\n",
       "      <th>1st complaint</th>\n",
       "      <th>2nd Complaint</th>\n",
       "      <th>3rd Complaint</th>\n",
       "    </tr>\n",
       "  </thead>\n",
       "  <tbody>\n",
       "    <tr>\n",
       "      <th>0</th>\n",
       "      <td>1</td>\n",
       "      <td>01.05.2011</td>\n",
       "      <td>18</td>\n",
       "      <td>Male</td>\n",
       "      <td>KOT ABDUL MALIK</td>\n",
       "      <td>fever</td>\n",
       "      <td>bodyaches</td>\n",
       "      <td>Headache</td>\n",
       "    </tr>\n",
       "    <tr>\n",
       "      <th>1</th>\n",
       "      <td>2</td>\n",
       "      <td>01.05.2011</td>\n",
       "      <td>40</td>\n",
       "      <td>Female</td>\n",
       "      <td>GUJRAT</td>\n",
       "      <td>bleeding</td>\n",
       "      <td>pain</td>\n",
       "      <td>RTA</td>\n",
       "    </tr>\n",
       "    <tr>\n",
       "      <th>2</th>\n",
       "      <td>3</td>\n",
       "      <td>01.05.2011</td>\n",
       "      <td>20</td>\n",
       "      <td>Male</td>\n",
       "      <td>GULSHAN RAVI</td>\n",
       "      <td>pain</td>\n",
       "      <td>bleeding</td>\n",
       "      <td>RTA</td>\n",
       "    </tr>\n",
       "    <tr>\n",
       "      <th>3</th>\n",
       "      <td>4</td>\n",
       "      <td>01.05.2011</td>\n",
       "      <td>18</td>\n",
       "      <td>Male</td>\n",
       "      <td>SAMANABAD</td>\n",
       "      <td>Pain</td>\n",
       "      <td>Anxiety</td>\n",
       "      <td>Dogbite</td>\n",
       "    </tr>\n",
       "    <tr>\n",
       "      <th>4</th>\n",
       "      <td>5</td>\n",
       "      <td>01.05.2011</td>\n",
       "      <td>40</td>\n",
       "      <td>Male</td>\n",
       "      <td>GOWALMANDI</td>\n",
       "      <td>Dyspnea</td>\n",
       "      <td>chest pain</td>\n",
       "      <td>RTI</td>\n",
       "    </tr>\n",
       "    <tr>\n",
       "      <th>...</th>\n",
       "      <td>...</td>\n",
       "      <td>...</td>\n",
       "      <td>...</td>\n",
       "      <td>...</td>\n",
       "      <td>...</td>\n",
       "      <td>...</td>\n",
       "      <td>...</td>\n",
       "      <td>...</td>\n",
       "    </tr>\n",
       "    <tr>\n",
       "      <th>133395</th>\n",
       "      <td>40610</td>\n",
       "      <td>31.08.2011</td>\n",
       "      <td>35</td>\n",
       "      <td>Female</td>\n",
       "      <td>ANARKALI</td>\n",
       "      <td>Vomiting</td>\n",
       "      <td>fever</td>\n",
       "      <td>nausea</td>\n",
       "    </tr>\n",
       "    <tr>\n",
       "      <th>133396</th>\n",
       "      <td>40611</td>\n",
       "      <td>31.08.2011</td>\n",
       "      <td>35</td>\n",
       "      <td>Female</td>\n",
       "      <td>GOWALMANDI,LAHORE</td>\n",
       "      <td>Arthritis</td>\n",
       "      <td>Anxiety</td>\n",
       "      <td>arthralgia</td>\n",
       "    </tr>\n",
       "    <tr>\n",
       "      <th>133397</th>\n",
       "      <td>40612</td>\n",
       "      <td>31.08.2011</td>\n",
       "      <td>18</td>\n",
       "      <td>Female</td>\n",
       "      <td>FAROOZWALA</td>\n",
       "      <td>Abdomen pain</td>\n",
       "      <td>Nausea</td>\n",
       "      <td>nausea</td>\n",
       "    </tr>\n",
       "    <tr>\n",
       "      <th>133398</th>\n",
       "      <td>40613</td>\n",
       "      <td>31.08.2011</td>\n",
       "      <td>46</td>\n",
       "      <td>Male</td>\n",
       "      <td>LOHARIGAT</td>\n",
       "      <td>Palpitation</td>\n",
       "      <td>anxiety</td>\n",
       "      <td>arthralgia</td>\n",
       "    </tr>\n",
       "    <tr>\n",
       "      <th>133399</th>\n",
       "      <td>40614</td>\n",
       "      <td>31.08.2011</td>\n",
       "      <td>18</td>\n",
       "      <td>Female</td>\n",
       "      <td>GOWALMANDI,LAHORE</td>\n",
       "      <td>Fever</td>\n",
       "      <td>headache</td>\n",
       "      <td>chills</td>\n",
       "    </tr>\n",
       "  </tbody>\n",
       "</table>\n",
       "<p>133400 rows × 8 columns</p>\n",
       "</div>"
      ],
      "text/plain": [
       "       Ser.No.        Date Age     Sex            Address 1st complaint  \\\n",
       "0            1  01.05.2011  18    Male    KOT ABDUL MALIK         fever   \n",
       "1            2  01.05.2011  40  Female             GUJRAT      bleeding   \n",
       "2            3  01.05.2011  20    Male       GULSHAN RAVI          pain   \n",
       "3            4  01.05.2011  18    Male          SAMANABAD          Pain   \n",
       "4            5  01.05.2011  40    Male        GOWALMANDI        Dyspnea   \n",
       "...        ...         ...  ..     ...                ...           ...   \n",
       "133395   40610  31.08.2011  35  Female           ANARKALI      Vomiting   \n",
       "133396   40611  31.08.2011  35  Female  GOWALMANDI,LAHORE     Arthritis   \n",
       "133397   40612  31.08.2011  18  Female         FAROOZWALA  Abdomen pain   \n",
       "133398   40613  31.08.2011  46    Male          LOHARIGAT   Palpitation   \n",
       "133399   40614  31.08.2011  18  Female  GOWALMANDI,LAHORE         Fever   \n",
       "\n",
       "       2nd Complaint 3rd Complaint  \n",
       "0          bodyaches      Headache  \n",
       "1               pain           RTA  \n",
       "2           bleeding           RTA  \n",
       "3            Anxiety       Dogbite  \n",
       "4         chest pain           RTI  \n",
       "...              ...           ...  \n",
       "133395         fever        nausea  \n",
       "133396       Anxiety    arthralgia  \n",
       "133397        Nausea        nausea  \n",
       "133398       anxiety    arthralgia  \n",
       "133399      headache        chills  \n",
       "\n",
       "[133400 rows x 8 columns]"
      ]
     },
     "execution_count": 6,
     "metadata": {},
     "output_type": "execute_result"
    }
   ],
   "source": [
    "df"
   ]
  },
  {
   "cell_type": "code",
   "execution_count": 7,
   "id": "6ac4bcc1",
   "metadata": {},
   "outputs": [
    {
     "data": {
      "text/plain": [
       "Ser.No.             1\n",
       "Date                1\n",
       "Age                 1\n",
       "Sex                 1\n",
       "Address             0\n",
       "1st complaint     496\n",
       "2nd Complaint     529\n",
       "3rd Complaint    1259\n",
       "dtype: int64"
      ]
     },
     "execution_count": 7,
     "metadata": {},
     "output_type": "execute_result"
    }
   ],
   "source": [
    "df.isna().sum() "
   ]
  },
  {
   "cell_type": "code",
   "execution_count": 8,
   "id": "c293cb5d",
   "metadata": {},
   "outputs": [],
   "source": [
    "df = df.dropna(subset=['Date'])"
   ]
  },
  {
   "cell_type": "code",
   "execution_count": 9,
   "id": "2b13d01e",
   "metadata": {},
   "outputs": [
    {
     "data": {
      "text/plain": [
       "Ser.No.             0\n",
       "Date                0\n",
       "Age                 0\n",
       "Sex                 0\n",
       "Address             0\n",
       "1st complaint     495\n",
       "2nd Complaint     528\n",
       "3rd Complaint    1258\n",
       "dtype: int64"
      ]
     },
     "execution_count": 9,
     "metadata": {},
     "output_type": "execute_result"
    }
   ],
   "source": [
    "df.isna().sum()"
   ]
  },
  {
   "cell_type": "code",
   "execution_count": 10,
   "id": "31356703",
   "metadata": {},
   "outputs": [
    {
     "data": {
      "text/html": [
       "<div>\n",
       "<style scoped>\n",
       "    .dataframe tbody tr th:only-of-type {\n",
       "        vertical-align: middle;\n",
       "    }\n",
       "\n",
       "    .dataframe tbody tr th {\n",
       "        vertical-align: top;\n",
       "    }\n",
       "\n",
       "    .dataframe thead th {\n",
       "        text-align: right;\n",
       "    }\n",
       "</style>\n",
       "<table border=\"1\" class=\"dataframe\">\n",
       "  <thead>\n",
       "    <tr style=\"text-align: right;\">\n",
       "      <th></th>\n",
       "      <th>Ser.No.</th>\n",
       "      <th>Date</th>\n",
       "      <th>Age</th>\n",
       "      <th>Sex</th>\n",
       "      <th>Address</th>\n",
       "      <th>1st complaint</th>\n",
       "      <th>2nd Complaint</th>\n",
       "      <th>3rd Complaint</th>\n",
       "    </tr>\n",
       "  </thead>\n",
       "  <tbody>\n",
       "    <tr>\n",
       "      <th>37633</th>\n",
       "      <td>6059</td>\n",
       "      <td>06.06.2011</td>\n",
       "      <td>60</td>\n",
       "      <td>Male</td>\n",
       "      <td>GOWALMANDI,LAHORE</td>\n",
       "      <td>NaN</td>\n",
       "      <td>backache</td>\n",
       "      <td>Difficulty in working</td>\n",
       "    </tr>\n",
       "    <tr>\n",
       "      <th>37657</th>\n",
       "      <td>6083</td>\n",
       "      <td>06.06.2011</td>\n",
       "      <td>40</td>\n",
       "      <td>Male</td>\n",
       "      <td>GOWALMANDI,LAHORE</td>\n",
       "      <td>NaN</td>\n",
       "      <td>backache</td>\n",
       "      <td>Difficulty in working</td>\n",
       "    </tr>\n",
       "    <tr>\n",
       "      <th>37677</th>\n",
       "      <td>6103</td>\n",
       "      <td>06.06.2011</td>\n",
       "      <td>22</td>\n",
       "      <td>Male</td>\n",
       "      <td>GOWALMANDI,LAHORE</td>\n",
       "      <td>NaN</td>\n",
       "      <td>backache</td>\n",
       "      <td>Difficulty in working</td>\n",
       "    </tr>\n",
       "    <tr>\n",
       "      <th>37678</th>\n",
       "      <td>6104</td>\n",
       "      <td>06.06.2011</td>\n",
       "      <td>17</td>\n",
       "      <td>Male</td>\n",
       "      <td>GOWALMANDI,LAHORE</td>\n",
       "      <td>NaN</td>\n",
       "      <td>Vomiting</td>\n",
       "      <td>fever</td>\n",
       "    </tr>\n",
       "    <tr>\n",
       "      <th>37709</th>\n",
       "      <td>6135</td>\n",
       "      <td>06.06.2011</td>\n",
       "      <td>60</td>\n",
       "      <td>Female</td>\n",
       "      <td>GOWALMANDI,LAHORE</td>\n",
       "      <td>NaN</td>\n",
       "      <td>Backache</td>\n",
       "      <td>Difficulty in working</td>\n",
       "    </tr>\n",
       "    <tr>\n",
       "      <th>...</th>\n",
       "      <td>...</td>\n",
       "      <td>...</td>\n",
       "      <td>...</td>\n",
       "      <td>...</td>\n",
       "      <td>...</td>\n",
       "      <td>...</td>\n",
       "      <td>...</td>\n",
       "      <td>...</td>\n",
       "    </tr>\n",
       "    <tr>\n",
       "      <th>96962</th>\n",
       "      <td>33416</td>\n",
       "      <td>31.07.2011</td>\n",
       "      <td>60</td>\n",
       "      <td>Male</td>\n",
       "      <td>MOZANG,LAHORE</td>\n",
       "      <td>NaN</td>\n",
       "      <td>fever</td>\n",
       "      <td>chills</td>\n",
       "    </tr>\n",
       "    <tr>\n",
       "      <th>97155</th>\n",
       "      <td>33609</td>\n",
       "      <td>31.07.2011</td>\n",
       "      <td>37</td>\n",
       "      <td>Male</td>\n",
       "      <td>LOHARI GATE</td>\n",
       "      <td>NaN</td>\n",
       "      <td>Gastroenteritis</td>\n",
       "      <td>diarrhoea</td>\n",
       "    </tr>\n",
       "    <tr>\n",
       "      <th>97231</th>\n",
       "      <td>33685</td>\n",
       "      <td>31.07.2011</td>\n",
       "      <td>73</td>\n",
       "      <td>Male</td>\n",
       "      <td>ANARKLI LHR</td>\n",
       "      <td>NaN</td>\n",
       "      <td>fever</td>\n",
       "      <td>chills</td>\n",
       "    </tr>\n",
       "    <tr>\n",
       "      <th>97235</th>\n",
       "      <td>33689</td>\n",
       "      <td>31.07.2011</td>\n",
       "      <td>15</td>\n",
       "      <td>Male</td>\n",
       "      <td>SHAHIDRA LAJPAT RD LHR</td>\n",
       "      <td>NaN</td>\n",
       "      <td>fever</td>\n",
       "      <td>chills</td>\n",
       "    </tr>\n",
       "    <tr>\n",
       "      <th>97273</th>\n",
       "      <td>33727</td>\n",
       "      <td>31.07.2011</td>\n",
       "      <td>72</td>\n",
       "      <td>Female</td>\n",
       "      <td>GOWALMANDI,LAHORE</td>\n",
       "      <td>NaN</td>\n",
       "      <td>vomiting</td>\n",
       "      <td>vertigo</td>\n",
       "    </tr>\n",
       "  </tbody>\n",
       "</table>\n",
       "<p>495 rows × 8 columns</p>\n",
       "</div>"
      ],
      "text/plain": [
       "      Ser.No.        Date Age     Sex                  Address 1st complaint  \\\n",
       "37633    6059  06.06.2011  60    Male        GOWALMANDI,LAHORE           NaN   \n",
       "37657    6083  06.06.2011  40    Male        GOWALMANDI,LAHORE           NaN   \n",
       "37677    6103  06.06.2011  22    Male        GOWALMANDI,LAHORE           NaN   \n",
       "37678    6104  06.06.2011  17    Male        GOWALMANDI,LAHORE           NaN   \n",
       "37709    6135  06.06.2011  60  Female        GOWALMANDI,LAHORE           NaN   \n",
       "...       ...         ...  ..     ...                      ...           ...   \n",
       "96962   33416  31.07.2011  60    Male            MOZANG,LAHORE           NaN   \n",
       "97155   33609  31.07.2011  37    Male             LOHARI GATE            NaN   \n",
       "97231   33685  31.07.2011  73    Male             ANARKLI LHR            NaN   \n",
       "97235   33689  31.07.2011  15    Male  SHAHIDRA LAJPAT RD LHR            NaN   \n",
       "97273   33727  31.07.2011  72  Female        GOWALMANDI,LAHORE           NaN   \n",
       "\n",
       "         2nd Complaint          3rd Complaint  \n",
       "37633         backache  Difficulty in working  \n",
       "37657         backache  Difficulty in working  \n",
       "37677         backache  Difficulty in working  \n",
       "37678         Vomiting                  fever  \n",
       "37709         Backache  Difficulty in working  \n",
       "...                ...                    ...  \n",
       "96962            fever                 chills  \n",
       "97155  Gastroenteritis              diarrhoea  \n",
       "97231           fever                  chills  \n",
       "97235            fever                 chills  \n",
       "97273         vomiting                vertigo  \n",
       "\n",
       "[495 rows x 8 columns]"
      ]
     },
     "execution_count": 10,
     "metadata": {},
     "output_type": "execute_result"
    }
   ],
   "source": [
    "df[df['1st complaint'].isna()]"
   ]
  },
  {
   "cell_type": "code",
   "execution_count": 11,
   "id": "44ffed10",
   "metadata": {},
   "outputs": [
    {
     "name": "stderr",
     "output_type": "stream",
     "text": [
      "C:\\Users\\drfak\\AppData\\Local\\Temp\\ipykernel_12608\\228517974.py:1: SettingWithCopyWarning: \n",
      "A value is trying to be set on a copy of a slice from a DataFrame\n",
      "\n",
      "See the caveats in the documentation: https://pandas.pydata.org/pandas-docs/stable/user_guide/indexing.html#returning-a-view-versus-a-copy\n",
      "  df['1st complaint'].fillna('None', inplace = True)\n",
      "C:\\Users\\drfak\\AppData\\Local\\Temp\\ipykernel_12608\\228517974.py:2: SettingWithCopyWarning: \n",
      "A value is trying to be set on a copy of a slice from a DataFrame\n",
      "\n",
      "See the caveats in the documentation: https://pandas.pydata.org/pandas-docs/stable/user_guide/indexing.html#returning-a-view-versus-a-copy\n",
      "  df['2nd Complaint'].fillna('None', inplace = True)\n",
      "C:\\Users\\drfak\\AppData\\Local\\Temp\\ipykernel_12608\\228517974.py:3: SettingWithCopyWarning: \n",
      "A value is trying to be set on a copy of a slice from a DataFrame\n",
      "\n",
      "See the caveats in the documentation: https://pandas.pydata.org/pandas-docs/stable/user_guide/indexing.html#returning-a-view-versus-a-copy\n",
      "  df['3rd Complaint'].fillna('None', inplace = True)\n"
     ]
    }
   ],
   "source": [
    "df['1st complaint'].fillna('None', inplace = True)\n",
    "df['2nd Complaint'].fillna('None', inplace = True)\n",
    "df['3rd Complaint'].fillna('None', inplace = True)"
   ]
  },
  {
   "cell_type": "code",
   "execution_count": 12,
   "id": "3a566e0a",
   "metadata": {},
   "outputs": [
    {
     "data": {
      "text/plain": [
       "Ser.No.          0\n",
       "Date             0\n",
       "Age              0\n",
       "Sex              0\n",
       "Address          0\n",
       "1st complaint    0\n",
       "2nd Complaint    0\n",
       "3rd Complaint    0\n",
       "dtype: int64"
      ]
     },
     "execution_count": 12,
     "metadata": {},
     "output_type": "execute_result"
    }
   ],
   "source": [
    "df.isna().sum()"
   ]
  },
  {
   "cell_type": "code",
   "execution_count": 13,
   "id": "2bcf833b",
   "metadata": {},
   "outputs": [
    {
     "data": {
      "text/plain": [
       "Ser.No.          object\n",
       "Date             object\n",
       "Age              object\n",
       "Sex              object\n",
       "Address          object\n",
       "1st complaint    object\n",
       "2nd Complaint    object\n",
       "3rd Complaint    object\n",
       "dtype: object"
      ]
     },
     "execution_count": 13,
     "metadata": {},
     "output_type": "execute_result"
    }
   ],
   "source": [
    "df.dtypes"
   ]
  },
  {
   "cell_type": "code",
   "execution_count": 14,
   "id": "42c05d3f",
   "metadata": {},
   "outputs": [
    {
     "name": "stderr",
     "output_type": "stream",
     "text": [
      "C:\\Users\\drfak\\AppData\\Local\\Temp\\ipykernel_12608\\2539851976.py:1: SettingWithCopyWarning: \n",
      "A value is trying to be set on a copy of a slice from a DataFrame.\n",
      "Try using .loc[row_indexer,col_indexer] = value instead\n",
      "\n",
      "See the caveats in the documentation: https://pandas.pydata.org/pandas-docs/stable/user_guide/indexing.html#returning-a-view-versus-a-copy\n",
      "  df['Age']=pd.to_numeric(df['Age'], errors='coerce')\n"
     ]
    }
   ],
   "source": [
    "df['Age']=pd.to_numeric(df['Age'], errors='coerce')\n"
   ]
  },
  {
   "cell_type": "code",
   "execution_count": 15,
   "id": "8a8f8b56",
   "metadata": {},
   "outputs": [
    {
     "data": {
      "text/plain": [
       "Ser.No.           object\n",
       "Date              object\n",
       "Age              float64\n",
       "Sex               object\n",
       "Address           object\n",
       "1st complaint     object\n",
       "2nd Complaint     object\n",
       "3rd Complaint     object\n",
       "dtype: object"
      ]
     },
     "execution_count": 15,
     "metadata": {},
     "output_type": "execute_result"
    }
   ],
   "source": [
    "df.dtypes"
   ]
  },
  {
   "cell_type": "code",
   "execution_count": 16,
   "id": "67378ade",
   "metadata": {},
   "outputs": [
    {
     "name": "stderr",
     "output_type": "stream",
     "text": [
      "C:\\Users\\drfak\\AppData\\Local\\Temp\\ipykernel_12608\\1150615803.py:1: SettingWithCopyWarning: \n",
      "A value is trying to be set on a copy of a slice from a DataFrame.\n",
      "Try using .loc[row_indexer,col_indexer] = value instead\n",
      "\n",
      "See the caveats in the documentation: https://pandas.pydata.org/pandas-docs/stable/user_guide/indexing.html#returning-a-view-versus-a-copy\n",
      "  df['Age'] = df['Age'].astype('Int64')\n"
     ]
    }
   ],
   "source": [
    "df['Age'] = df['Age'].astype('Int64')"
   ]
  },
  {
   "cell_type": "code",
   "execution_count": 17,
   "id": "cba9e228",
   "metadata": {},
   "outputs": [
    {
     "data": {
      "text/plain": [
       "Ser.No.          object\n",
       "Date             object\n",
       "Age               Int64\n",
       "Sex              object\n",
       "Address          object\n",
       "1st complaint    object\n",
       "2nd Complaint    object\n",
       "3rd Complaint    object\n",
       "dtype: object"
      ]
     },
     "execution_count": 17,
     "metadata": {},
     "output_type": "execute_result"
    }
   ],
   "source": [
    "df.dtypes"
   ]
  },
  {
   "cell_type": "code",
   "execution_count": 18,
   "id": "e654c528",
   "metadata": {},
   "outputs": [
    {
     "data": {
      "text/plain": [
       "array([[<AxesSubplot: title={'center': 'Age'}>]], dtype=object)"
      ]
     },
     "execution_count": 18,
     "metadata": {},
     "output_type": "execute_result"
    },
    {
     "data": {
      "image/png": "[encoded data removed]",
      "text/plain": [
       "<Figure size 2000x1000 with 1 Axes>"
      ]
     },
     "metadata": {},
     "output_type": "display_data"
    }
   ],
   "source": [
    "df.hist(bins=80, figsize=(20,10)) "
   ]
  },
  {
   "cell_type": "code",
   "execution_count": 19,
   "id": "e9761763",
   "metadata": {},
   "outputs": [
    {
     "data": {
      "text/html": [
       "<div>\n",
       "<style scoped>\n",
       "    .dataframe tbody tr th:only-of-type {\n",
       "        vertical-align: middle;\n",
       "    }\n",
       "\n",
       "    .dataframe tbody tr th {\n",
       "        vertical-align: top;\n",
       "    }\n",
       "\n",
       "    .dataframe thead th {\n",
       "        text-align: right;\n",
       "    }\n",
       "</style>\n",
       "<table border=\"1\" class=\"dataframe\">\n",
       "  <thead>\n",
       "    <tr style=\"text-align: right;\">\n",
       "      <th></th>\n",
       "      <th>Age</th>\n",
       "    </tr>\n",
       "  </thead>\n",
       "  <tbody>\n",
       "    <tr>\n",
       "      <th>count</th>\n",
       "      <td>133398.000000</td>\n",
       "    </tr>\n",
       "    <tr>\n",
       "      <th>mean</th>\n",
       "      <td>35.179628</td>\n",
       "    </tr>\n",
       "    <tr>\n",
       "      <th>std</th>\n",
       "      <td>15.876322</td>\n",
       "    </tr>\n",
       "    <tr>\n",
       "      <th>min</th>\n",
       "      <td>12.000000</td>\n",
       "    </tr>\n",
       "    <tr>\n",
       "      <th>25%</th>\n",
       "      <td>22.000000</td>\n",
       "    </tr>\n",
       "    <tr>\n",
       "      <th>50%</th>\n",
       "      <td>30.000000</td>\n",
       "    </tr>\n",
       "    <tr>\n",
       "      <th>75%</th>\n",
       "      <td>45.000000</td>\n",
       "    </tr>\n",
       "    <tr>\n",
       "      <th>max</th>\n",
       "      <td>80.000000</td>\n",
       "    </tr>\n",
       "  </tbody>\n",
       "</table>\n",
       "</div>"
      ],
      "text/plain": [
       "                 Age\n",
       "count  133398.000000\n",
       "mean       35.179628\n",
       "std        15.876322\n",
       "min        12.000000\n",
       "25%        22.000000\n",
       "50%        30.000000\n",
       "75%        45.000000\n",
       "max        80.000000"
      ]
     },
     "execution_count": 19,
     "metadata": {},
     "output_type": "execute_result"
    }
   ],
   "source": [
    "df.describe()"
   ]
  },
  {
   "cell_type": "code",
   "execution_count": 20,
   "id": "367a4b38",
   "metadata": {},
   "outputs": [],
   "source": [
    "df_Ser = df[['Ser.No.']]\n",
    "df_date = df[['Date']]\n",
    "df_age = df[['Age']]"
   ]
  },
  {
   "cell_type": "code",
   "execution_count": null,
   "id": "d2cb89ca",
   "metadata": {},
   "outputs": [],
   "source": []
  },
  {
   "cell_type": "code",
   "execution_count": 21,
   "id": "fe5caf8e",
   "metadata": {},
   "outputs": [],
   "source": [
    "df_categorical = df[['Sex']]\n",
    "strings = df[['Address', '1st complaint', '2nd Complaint', '3rd Complaint']]"
   ]
  },
  {
   "cell_type": "code",
   "execution_count": 22,
   "id": "91c1d7eb",
   "metadata": {},
   "outputs": [
    {
     "data": {
      "text/html": [
       "<div>\n",
       "<style scoped>\n",
       "    .dataframe tbody tr th:only-of-type {\n",
       "        vertical-align: middle;\n",
       "    }\n",
       "\n",
       "    .dataframe tbody tr th {\n",
       "        vertical-align: top;\n",
       "    }\n",
       "\n",
       "    .dataframe thead th {\n",
       "        text-align: right;\n",
       "    }\n",
       "</style>\n",
       "<table border=\"1\" class=\"dataframe\">\n",
       "  <thead>\n",
       "    <tr style=\"text-align: right;\">\n",
       "      <th></th>\n",
       "      <th>Sex</th>\n",
       "    </tr>\n",
       "  </thead>\n",
       "  <tbody>\n",
       "    <tr>\n",
       "      <th>0</th>\n",
       "      <td>Male</td>\n",
       "    </tr>\n",
       "    <tr>\n",
       "      <th>1</th>\n",
       "      <td>Female</td>\n",
       "    </tr>\n",
       "    <tr>\n",
       "      <th>2</th>\n",
       "      <td>Male</td>\n",
       "    </tr>\n",
       "    <tr>\n",
       "      <th>3</th>\n",
       "      <td>Male</td>\n",
       "    </tr>\n",
       "    <tr>\n",
       "      <th>4</th>\n",
       "      <td>Male</td>\n",
       "    </tr>\n",
       "    <tr>\n",
       "      <th>...</th>\n",
       "      <td>...</td>\n",
       "    </tr>\n",
       "    <tr>\n",
       "      <th>133395</th>\n",
       "      <td>Female</td>\n",
       "    </tr>\n",
       "    <tr>\n",
       "      <th>133396</th>\n",
       "      <td>Female</td>\n",
       "    </tr>\n",
       "    <tr>\n",
       "      <th>133397</th>\n",
       "      <td>Female</td>\n",
       "    </tr>\n",
       "    <tr>\n",
       "      <th>133398</th>\n",
       "      <td>Male</td>\n",
       "    </tr>\n",
       "    <tr>\n",
       "      <th>133399</th>\n",
       "      <td>Female</td>\n",
       "    </tr>\n",
       "  </tbody>\n",
       "</table>\n",
       "<p>133399 rows × 1 columns</p>\n",
       "</div>"
      ],
      "text/plain": [
       "           Sex\n",
       "0         Male\n",
       "1       Female\n",
       "2         Male\n",
       "3         Male\n",
       "4         Male\n",
       "...        ...\n",
       "133395  Female\n",
       "133396  Female\n",
       "133397  Female\n",
       "133398    Male\n",
       "133399  Female\n",
       "\n",
       "[133399 rows x 1 columns]"
      ]
     },
     "execution_count": 22,
     "metadata": {},
     "output_type": "execute_result"
    }
   ],
   "source": [
    "df_categorical"
   ]
  },
  {
   "cell_type": "code",
   "execution_count": 23,
   "id": "60064168",
   "metadata": {},
   "outputs": [
    {
     "name": "stdout",
     "output_type": "stream",
     "text": [
      "['Male' 'Female' '0' 'Sex']\n"
     ]
    }
   ],
   "source": [
    "print(df['Sex'].unique())"
   ]
  },
  {
   "cell_type": "code",
   "execution_count": 24,
   "id": "61dc03ed",
   "metadata": {},
   "outputs": [
    {
     "data": {
      "text/html": [
       "<div>\n",
       "<style scoped>\n",
       "    .dataframe tbody tr th:only-of-type {\n",
       "        vertical-align: middle;\n",
       "    }\n",
       "\n",
       "    .dataframe tbody tr th {\n",
       "        vertical-align: top;\n",
       "    }\n",
       "\n",
       "    .dataframe thead th {\n",
       "        text-align: right;\n",
       "    }\n",
       "</style>\n",
       "<table border=\"1\" class=\"dataframe\">\n",
       "  <thead>\n",
       "    <tr style=\"text-align: right;\">\n",
       "      <th></th>\n",
       "      <th>Ser.No.</th>\n",
       "      <th>Date</th>\n",
       "      <th>Age</th>\n",
       "      <th>Sex</th>\n",
       "      <th>Address</th>\n",
       "      <th>1st complaint</th>\n",
       "      <th>2nd Complaint</th>\n",
       "      <th>3rd Complaint</th>\n",
       "    </tr>\n",
       "  </thead>\n",
       "  <tbody>\n",
       "    <tr>\n",
       "      <th>97506</th>\n",
       "      <td>Ser.No.</td>\n",
       "      <td>Date</td>\n",
       "      <td>&lt;NA&gt;</td>\n",
       "      <td>Sex</td>\n",
       "      <td>Address</td>\n",
       "      <td>1st complaint</td>\n",
       "      <td>2nd Complaint</td>\n",
       "      <td>3rd Complaint</td>\n",
       "    </tr>\n",
       "  </tbody>\n",
       "</table>\n",
       "</div>"
      ],
      "text/plain": [
       "       Ser.No.  Date   Age  Sex  Address  1st complaint  2nd Complaint  \\\n",
       "97506  Ser.No.  Date  <NA>  Sex  Address  1st complaint  2nd Complaint   \n",
       "\n",
       "       3rd Complaint  \n",
       "97506  3rd Complaint  "
      ]
     },
     "execution_count": 24,
     "metadata": {},
     "output_type": "execute_result"
    }
   ],
   "source": [
    "df[df['Sex']=='Sex']"
   ]
  },
  {
   "cell_type": "code",
   "execution_count": 25,
   "id": "a30204e9",
   "metadata": {},
   "outputs": [
    {
     "data": {
      "text/plain": [
       "Int64Index([97506], dtype='int64')"
      ]
     },
     "execution_count": 25,
     "metadata": {},
     "output_type": "execute_result"
    }
   ],
   "source": [
    "index = df[df['Sex'] == 'Sex'].index\n",
    "index"
   ]
  },
  {
   "cell_type": "code",
   "execution_count": 26,
   "id": "b333140a",
   "metadata": {},
   "outputs": [
    {
     "name": "stderr",
     "output_type": "stream",
     "text": [
      "C:\\Users\\drfak\\AppData\\Local\\Temp\\ipykernel_12608\\3481487686.py:1: SettingWithCopyWarning: \n",
      "A value is trying to be set on a copy of a slice from a DataFrame\n",
      "\n",
      "See the caveats in the documentation: https://pandas.pydata.org/pandas-docs/stable/user_guide/indexing.html#returning-a-view-versus-a-copy\n",
      "  df.drop(index, inplace=True)\n"
     ]
    }
   ],
   "source": [
    "df.drop(index, inplace=True)"
   ]
  },
  {
   "cell_type": "code",
   "execution_count": 27,
   "id": "5d21e198",
   "metadata": {},
   "outputs": [
    {
     "name": "stdout",
     "output_type": "stream",
     "text": [
      "['Male' 'Female' '0']\n"
     ]
    }
   ],
   "source": [
    "print(df['Sex'].unique())"
   ]
  },
  {
   "cell_type": "code",
   "execution_count": 28,
   "id": "eb7bad1e",
   "metadata": {},
   "outputs": [
    {
     "data": {
      "text/html": [
       "<div>\n",
       "<style scoped>\n",
       "    .dataframe tbody tr th:only-of-type {\n",
       "        vertical-align: middle;\n",
       "    }\n",
       "\n",
       "    .dataframe tbody tr th {\n",
       "        vertical-align: top;\n",
       "    }\n",
       "\n",
       "    .dataframe thead th {\n",
       "        text-align: right;\n",
       "    }\n",
       "</style>\n",
       "<table border=\"1\" class=\"dataframe\">\n",
       "  <thead>\n",
       "    <tr style=\"text-align: right;\">\n",
       "      <th></th>\n",
       "      <th>Ser.No.</th>\n",
       "      <th>Date</th>\n",
       "      <th>Age</th>\n",
       "      <th>Sex</th>\n",
       "      <th>Address</th>\n",
       "      <th>1st complaint</th>\n",
       "      <th>2nd Complaint</th>\n",
       "      <th>3rd Complaint</th>\n",
       "    </tr>\n",
       "  </thead>\n",
       "  <tbody>\n",
       "    <tr>\n",
       "      <th>0</th>\n",
       "      <td>1</td>\n",
       "      <td>01.05.2011</td>\n",
       "      <td>18</td>\n",
       "      <td>Male</td>\n",
       "      <td>KOT ABDUL MALIK</td>\n",
       "      <td>fever</td>\n",
       "      <td>bodyaches</td>\n",
       "      <td>Headache</td>\n",
       "    </tr>\n",
       "    <tr>\n",
       "      <th>2</th>\n",
       "      <td>3</td>\n",
       "      <td>01.05.2011</td>\n",
       "      <td>20</td>\n",
       "      <td>Male</td>\n",
       "      <td>GULSHAN RAVI</td>\n",
       "      <td>pain</td>\n",
       "      <td>bleeding</td>\n",
       "      <td>RTA</td>\n",
       "    </tr>\n",
       "    <tr>\n",
       "      <th>3</th>\n",
       "      <td>4</td>\n",
       "      <td>01.05.2011</td>\n",
       "      <td>18</td>\n",
       "      <td>Male</td>\n",
       "      <td>SAMANABAD</td>\n",
       "      <td>Pain</td>\n",
       "      <td>Anxiety</td>\n",
       "      <td>Dogbite</td>\n",
       "    </tr>\n",
       "    <tr>\n",
       "      <th>4</th>\n",
       "      <td>5</td>\n",
       "      <td>01.05.2011</td>\n",
       "      <td>40</td>\n",
       "      <td>Male</td>\n",
       "      <td>GOWALMANDI</td>\n",
       "      <td>Dyspnea</td>\n",
       "      <td>chest pain</td>\n",
       "      <td>RTI</td>\n",
       "    </tr>\n",
       "    <tr>\n",
       "      <th>5</th>\n",
       "      <td>6</td>\n",
       "      <td>01.05.2011</td>\n",
       "      <td>24</td>\n",
       "      <td>Male</td>\n",
       "      <td>KOT ABDUL MALIK</td>\n",
       "      <td>headache</td>\n",
       "      <td>allergy</td>\n",
       "      <td>Vomiting</td>\n",
       "    </tr>\n",
       "    <tr>\n",
       "      <th>...</th>\n",
       "      <td>...</td>\n",
       "      <td>...</td>\n",
       "      <td>...</td>\n",
       "      <td>...</td>\n",
       "      <td>...</td>\n",
       "      <td>...</td>\n",
       "      <td>...</td>\n",
       "      <td>...</td>\n",
       "    </tr>\n",
       "    <tr>\n",
       "      <th>133390</th>\n",
       "      <td>40605</td>\n",
       "      <td>31.08.2011</td>\n",
       "      <td>30</td>\n",
       "      <td>Male</td>\n",
       "      <td>AMIR ROAD LHR</td>\n",
       "      <td>Fever</td>\n",
       "      <td>Chills</td>\n",
       "      <td>Body pains</td>\n",
       "    </tr>\n",
       "    <tr>\n",
       "      <th>133391</th>\n",
       "      <td>40606</td>\n",
       "      <td>31.08.2011</td>\n",
       "      <td>60</td>\n",
       "      <td>Male</td>\n",
       "      <td>BRANTH RAOD</td>\n",
       "      <td>Abdomen pain</td>\n",
       "      <td>Nausea</td>\n",
       "      <td>kidney pain</td>\n",
       "    </tr>\n",
       "    <tr>\n",
       "      <th>133392</th>\n",
       "      <td>40607</td>\n",
       "      <td>31.08.2011</td>\n",
       "      <td>30</td>\n",
       "      <td>Male</td>\n",
       "      <td>SANDA LHR</td>\n",
       "      <td>Fever</td>\n",
       "      <td>Chills</td>\n",
       "      <td>Body pains</td>\n",
       "    </tr>\n",
       "    <tr>\n",
       "      <th>133394</th>\n",
       "      <td>40609</td>\n",
       "      <td>31.08.2011</td>\n",
       "      <td>48</td>\n",
       "      <td>Male</td>\n",
       "      <td>FARKHABAD SHAHDARA LHR</td>\n",
       "      <td>Renal Colic</td>\n",
       "      <td>dysuria</td>\n",
       "      <td>Anxiety</td>\n",
       "    </tr>\n",
       "    <tr>\n",
       "      <th>133398</th>\n",
       "      <td>40613</td>\n",
       "      <td>31.08.2011</td>\n",
       "      <td>46</td>\n",
       "      <td>Male</td>\n",
       "      <td>LOHARIGAT</td>\n",
       "      <td>Palpitation</td>\n",
       "      <td>anxiety</td>\n",
       "      <td>arthralgia</td>\n",
       "    </tr>\n",
       "  </tbody>\n",
       "</table>\n",
       "<p>74655 rows × 8 columns</p>\n",
       "</div>"
      ],
      "text/plain": [
       "       Ser.No.        Date  Age   Sex                 Address 1st complaint  \\\n",
       "0            1  01.05.2011   18  Male         KOT ABDUL MALIK         fever   \n",
       "2            3  01.05.2011   20  Male            GULSHAN RAVI          pain   \n",
       "3            4  01.05.2011   18  Male               SAMANABAD          Pain   \n",
       "4            5  01.05.2011   40  Male             GOWALMANDI        Dyspnea   \n",
       "5            6  01.05.2011   24  Male         KOT ABDUL MALIK      headache   \n",
       "...        ...         ...  ...   ...                     ...           ...   \n",
       "133390   40605  31.08.2011   30  Male           AMIR ROAD LHR         Fever   \n",
       "133391   40606  31.08.2011   60  Male            BRANTH RAOD   Abdomen pain   \n",
       "133392   40607  31.08.2011   30  Male               SANDA LHR         Fever   \n",
       "133394   40609  31.08.2011   48  Male  FARKHABAD SHAHDARA LHR   Renal Colic   \n",
       "133398   40613  31.08.2011   46  Male               LOHARIGAT   Palpitation   \n",
       "\n",
       "       2nd Complaint 3rd Complaint  \n",
       "0          bodyaches      Headache  \n",
       "2           bleeding           RTA  \n",
       "3            Anxiety       Dogbite  \n",
       "4         chest pain           RTI  \n",
       "5            allergy      Vomiting  \n",
       "...              ...           ...  \n",
       "133390        Chills    Body pains  \n",
       "133391        Nausea   kidney pain  \n",
       "133392        Chills    Body pains  \n",
       "133394       dysuria       Anxiety  \n",
       "133398       anxiety    arthralgia  \n",
       "\n",
       "[74655 rows x 8 columns]"
      ]
     },
     "execution_count": 28,
     "metadata": {},
     "output_type": "execute_result"
    }
   ],
   "source": [
    "df[df['Sex'] == 'Male']"
   ]
  },
  {
   "cell_type": "code",
   "execution_count": 29,
   "id": "9eacd251",
   "metadata": {},
   "outputs": [
    {
     "data": {
      "text/html": [
       "<div>\n",
       "<style scoped>\n",
       "    .dataframe tbody tr th:only-of-type {\n",
       "        vertical-align: middle;\n",
       "    }\n",
       "\n",
       "    .dataframe tbody tr th {\n",
       "        vertical-align: top;\n",
       "    }\n",
       "\n",
       "    .dataframe thead th {\n",
       "        text-align: right;\n",
       "    }\n",
       "</style>\n",
       "<table border=\"1\" class=\"dataframe\">\n",
       "  <thead>\n",
       "    <tr style=\"text-align: right;\">\n",
       "      <th></th>\n",
       "      <th>Ser.No.</th>\n",
       "      <th>Date</th>\n",
       "      <th>Age</th>\n",
       "      <th>Sex</th>\n",
       "      <th>Address</th>\n",
       "      <th>1st complaint</th>\n",
       "      <th>2nd Complaint</th>\n",
       "      <th>3rd Complaint</th>\n",
       "    </tr>\n",
       "  </thead>\n",
       "  <tbody>\n",
       "    <tr>\n",
       "      <th>1</th>\n",
       "      <td>2</td>\n",
       "      <td>01.05.2011</td>\n",
       "      <td>40</td>\n",
       "      <td>Female</td>\n",
       "      <td>GUJRAT</td>\n",
       "      <td>bleeding</td>\n",
       "      <td>pain</td>\n",
       "      <td>RTA</td>\n",
       "    </tr>\n",
       "    <tr>\n",
       "      <th>6</th>\n",
       "      <td>7</td>\n",
       "      <td>01.05.2011</td>\n",
       "      <td>26</td>\n",
       "      <td>Female</td>\n",
       "      <td>URDU BAZAR</td>\n",
       "      <td>bleeding</td>\n",
       "      <td>pain</td>\n",
       "      <td>RTA</td>\n",
       "    </tr>\n",
       "    <tr>\n",
       "      <th>9</th>\n",
       "      <td>10</td>\n",
       "      <td>01.05.2011</td>\n",
       "      <td>19</td>\n",
       "      <td>Female</td>\n",
       "      <td>BHATIGAT</td>\n",
       "      <td>Itching</td>\n",
       "      <td>Irritation</td>\n",
       "      <td>Allergy</td>\n",
       "    </tr>\n",
       "    <tr>\n",
       "      <th>10</th>\n",
       "      <td>11</td>\n",
       "      <td>01.05.2011</td>\n",
       "      <td>45</td>\n",
       "      <td>Female</td>\n",
       "      <td>GULSHAN RAVI</td>\n",
       "      <td>bleeding</td>\n",
       "      <td>pain</td>\n",
       "      <td>RTA</td>\n",
       "    </tr>\n",
       "    <tr>\n",
       "      <th>12</th>\n",
       "      <td>13</td>\n",
       "      <td>01.05.2011</td>\n",
       "      <td>35</td>\n",
       "      <td>Female</td>\n",
       "      <td>BHATIGAT</td>\n",
       "      <td>Nausea</td>\n",
       "      <td>Bodyaches</td>\n",
       "      <td>Abdomen pain</td>\n",
       "    </tr>\n",
       "    <tr>\n",
       "      <th>...</th>\n",
       "      <td>...</td>\n",
       "      <td>...</td>\n",
       "      <td>...</td>\n",
       "      <td>...</td>\n",
       "      <td>...</td>\n",
       "      <td>...</td>\n",
       "      <td>...</td>\n",
       "      <td>...</td>\n",
       "    </tr>\n",
       "    <tr>\n",
       "      <th>133393</th>\n",
       "      <td>40608</td>\n",
       "      <td>31.08.2011</td>\n",
       "      <td>31</td>\n",
       "      <td>Female</td>\n",
       "      <td>GUJRANWALA</td>\n",
       "      <td>Fever</td>\n",
       "      <td>Chills</td>\n",
       "      <td>Body pains</td>\n",
       "    </tr>\n",
       "    <tr>\n",
       "      <th>133395</th>\n",
       "      <td>40610</td>\n",
       "      <td>31.08.2011</td>\n",
       "      <td>35</td>\n",
       "      <td>Female</td>\n",
       "      <td>ANARKALI</td>\n",
       "      <td>Vomiting</td>\n",
       "      <td>fever</td>\n",
       "      <td>nausea</td>\n",
       "    </tr>\n",
       "    <tr>\n",
       "      <th>133396</th>\n",
       "      <td>40611</td>\n",
       "      <td>31.08.2011</td>\n",
       "      <td>35</td>\n",
       "      <td>Female</td>\n",
       "      <td>GOWALMANDI,LAHORE</td>\n",
       "      <td>Arthritis</td>\n",
       "      <td>Anxiety</td>\n",
       "      <td>arthralgia</td>\n",
       "    </tr>\n",
       "    <tr>\n",
       "      <th>133397</th>\n",
       "      <td>40612</td>\n",
       "      <td>31.08.2011</td>\n",
       "      <td>18</td>\n",
       "      <td>Female</td>\n",
       "      <td>FAROOZWALA</td>\n",
       "      <td>Abdomen pain</td>\n",
       "      <td>Nausea</td>\n",
       "      <td>nausea</td>\n",
       "    </tr>\n",
       "    <tr>\n",
       "      <th>133399</th>\n",
       "      <td>40614</td>\n",
       "      <td>31.08.2011</td>\n",
       "      <td>18</td>\n",
       "      <td>Female</td>\n",
       "      <td>GOWALMANDI,LAHORE</td>\n",
       "      <td>Fever</td>\n",
       "      <td>headache</td>\n",
       "      <td>chills</td>\n",
       "    </tr>\n",
       "  </tbody>\n",
       "</table>\n",
       "<p>58741 rows × 8 columns</p>\n",
       "</div>"
      ],
      "text/plain": [
       "       Ser.No.        Date  Age     Sex            Address 1st complaint  \\\n",
       "1            2  01.05.2011   40  Female             GUJRAT      bleeding   \n",
       "6            7  01.05.2011   26  Female         URDU BAZAR      bleeding   \n",
       "9           10  01.05.2011   19  Female           BHATIGAT       Itching   \n",
       "10          11  01.05.2011   45  Female       GULSHAN RAVI      bleeding   \n",
       "12          13  01.05.2011   35  Female           BHATIGAT        Nausea   \n",
       "...        ...         ...  ...     ...                ...           ...   \n",
       "133393   40608  31.08.2011   31  Female        GUJRANWALA          Fever   \n",
       "133395   40610  31.08.2011   35  Female           ANARKALI      Vomiting   \n",
       "133396   40611  31.08.2011   35  Female  GOWALMANDI,LAHORE     Arthritis   \n",
       "133397   40612  31.08.2011   18  Female         FAROOZWALA  Abdomen pain   \n",
       "133399   40614  31.08.2011   18  Female  GOWALMANDI,LAHORE         Fever   \n",
       "\n",
       "       2nd Complaint 3rd Complaint  \n",
       "1               pain           RTA  \n",
       "6               pain           RTA  \n",
       "9         Irritation       Allergy  \n",
       "10              pain           RTA  \n",
       "12         Bodyaches  Abdomen pain  \n",
       "...              ...           ...  \n",
       "133393        Chills    Body pains  \n",
       "133395         fever        nausea  \n",
       "133396       Anxiety    arthralgia  \n",
       "133397        Nausea        nausea  \n",
       "133399      headache        chills  \n",
       "\n",
       "[58741 rows x 8 columns]"
      ]
     },
     "execution_count": 29,
     "metadata": {},
     "output_type": "execute_result"
    }
   ],
   "source": [
    "df[df['Sex'] == 'Female']"
   ]
  },
  {
   "cell_type": "code",
   "execution_count": 49,
   "id": "9a0bb441",
   "metadata": {},
   "outputs": [
    {
     "data": {
      "text/plain": [
       "<IntegerArray>\n",
       "[18, 40, 20, 24, 26, 35, 19, 45, 32, 62, 55, 56, 25, 17, 60, 30, 72, 28, 22,\n",
       " 23, 16, 36, 42, 65, 74, 50, 21, 37, 43, 52, 51, 48, 27, 39, 70, 38, 73, 15,\n",
       " 54, 58, 34, 31, 61, 57, 14, 29, 79, 66, 33, 47, 64, 44, 46, 63, 49, 41, 53,\n",
       " 68, 76, 75, 59, 67, 80, 69, 77, 78, 71, 12, 13]\n",
       "Length: 69, dtype: Int64"
      ]
     },
     "execution_count": 49,
     "metadata": {},
     "output_type": "execute_result"
    }
   ],
   "source": [
    "df['Age'].unique()"
   ]
  },
  {
   "cell_type": "code",
   "execution_count": 31,
   "id": "8499edc2",
   "metadata": {},
   "outputs": [],
   "source": [
    "from sklearn.preprocessing import LabelEncoder\n",
    "\n",
    "Gender_encoder = LabelEncoder()"
   ]
  },
  {
   "cell_type": "code",
   "execution_count": 32,
   "id": "e7c75ff9",
   "metadata": {},
   "outputs": [
    {
     "data": {
      "text/html": [
       "<style>#sk-container-id-1 {color: black;background-color: white;}#sk-container-id-1 pre{padding: 0;}#sk-container-id-1 div.sk-toggleable {background-color: white;}#sk-container-id-1 label.sk-toggleable__label {cursor: pointer;display: block;width: 100%;margin-bottom: 0;padding: 0.3em;box-sizing: border-box;text-align: center;}#sk-container-id-1 label.sk-toggleable__label-arrow:before {content: \"▸\";float: left;margin-right: 0.25em;color: #696969;}#sk-container-id-1 label.sk-toggleable__label-arrow:hover:before {color: black;}#sk-container-id-1 div.sk-estimator:hover label.sk-toggleable__label-arrow:before {color: black;}#sk-container-id-1 div.sk-toggleable__content {max-height: 0;max-width: 0;overflow: hidden;text-align: left;background-color: #f0f8ff;}#sk-container-id-1 div.sk-toggleable__content pre {margin: 0.2em;color: black;border-radius: 0.25em;background-color: #f0f8ff;}#sk-container-id-1 input.sk-toggleable__control:checked~div.sk-toggleable__content {max-height: 200px;max-width: 100%;overflow: auto;}#sk-container-id-1 input.sk-toggleable__control:checked~label.sk-toggleable__label-arrow:before {content: \"▾\";}#sk-container-id-1 div.sk-estimator input.sk-toggleable__control:checked~label.sk-toggleable__label {background-color: #d4ebff;}#sk-container-id-1 div.sk-label input.sk-toggleable__control:checked~label.sk-toggleable__label {background-color: #d4ebff;}#sk-container-id-1 input.sk-hidden--visually {border: 0;clip: rect(1px 1px 1px 1px);clip: rect(1px, 1px, 1px, 1px);height: 1px;margin: -1px;overflow: hidden;padding: 0;position: absolute;width: 1px;}#sk-container-id-1 div.sk-estimator {font-family: monospace;background-color: #f0f8ff;border: 1px dotted black;border-radius: 0.25em;box-sizing: border-box;margin-bottom: 0.5em;}#sk-container-id-1 div.sk-estimator:hover {background-color: #d4ebff;}#sk-container-id-1 div.sk-parallel-item::after {content: \"\";width: 100%;border-bottom: 1px solid gray;flex-grow: 1;}#sk-container-id-1 div.sk-label:hover label.sk-toggleable__label {background-color: #d4ebff;}#sk-container-id-1 div.sk-serial::before {content: \"\";position: absolute;border-left: 1px solid gray;box-sizing: border-box;top: 0;bottom: 0;left: 50%;z-index: 0;}#sk-container-id-1 div.sk-serial {display: flex;flex-direction: column;align-items: center;background-color: white;padding-right: 0.2em;padding-left: 0.2em;position: relative;}#sk-container-id-1 div.sk-item {position: relative;z-index: 1;}#sk-container-id-1 div.sk-parallel {display: flex;align-items: stretch;justify-content: center;background-color: white;position: relative;}#sk-container-id-1 div.sk-item::before, #sk-container-id-1 div.sk-parallel-item::before {content: \"\";position: absolute;border-left: 1px solid gray;box-sizing: border-box;top: 0;bottom: 0;left: 50%;z-index: -1;}#sk-container-id-1 div.sk-parallel-item {display: flex;flex-direction: column;z-index: 1;position: relative;background-color: white;}#sk-container-id-1 div.sk-parallel-item:first-child::after {align-self: flex-end;width: 50%;}#sk-container-id-1 div.sk-parallel-item:last-child::after {align-self: flex-start;width: 50%;}#sk-container-id-1 div.sk-parallel-item:only-child::after {width: 0;}#sk-container-id-1 div.sk-dashed-wrapped {border: 1px dashed gray;margin: 0 0.4em 0.5em 0.4em;box-sizing: border-box;padding-bottom: 0.4em;background-color: white;}#sk-container-id-1 div.sk-label label {font-family: monospace;font-weight: bold;display: inline-block;line-height: 1.2em;}#sk-container-id-1 div.sk-label-container {text-align: center;}#sk-container-id-1 div.sk-container {/* jupyter's `normalize.less` sets `[hidden] { display: none; }` but bootstrap.min.css set `[hidden] { display: none !important; }` so we also need the `!important` here to be able to override the default hidden behavior on the sphinx rendered scikit-learn.org. See: https://github.com/scikit-learn/scikit-learn/issues/21755 */display: inline-block !important;position: relative;}#sk-container-id-1 div.sk-text-repr-fallback {display: none;}</style><div id=\"sk-container-id-1\" class=\"sk-top-container\"><div class=\"sk-text-repr-fallback\"><pre>LabelEncoder()</pre><b>In a Jupyter environment, please rerun this cell to show the HTML representation or trust the notebook. <br />On GitHub, the HTML representation is unable to render, please try loading this page with nbviewer.org.</b></div><div class=\"sk-container\" hidden><div class=\"sk-item\"><div class=\"sk-estimator sk-toggleable\"><input class=\"sk-toggleable__control sk-hidden--visually\" id=\"sk-estimator-id-1\" type=\"checkbox\" checked><label for=\"sk-estimator-id-1\" class=\"sk-toggleable__label sk-toggleable__label-arrow\">LabelEncoder</label><div class=\"sk-toggleable__content\"><pre>LabelEncoder()</pre></div></div></div></div></div>"
      ],
      "text/plain": [
       "LabelEncoder()"
      ]
     },
     "execution_count": 32,
     "metadata": {},
     "output_type": "execute_result"
    }
   ],
   "source": [
    "Gender_encoder.fit(df_categorical['Sex'])"
   ]
  },
  {
   "cell_type": "code",
   "execution_count": 33,
   "id": "4d82d0ef",
   "metadata": {},
   "outputs": [],
   "source": [
    "Gender_values = Gender_encoder.transform(df_categorical['Sex'])"
   ]
  },
  {
   "cell_type": "code",
   "execution_count": 34,
   "id": "ed1636b3",
   "metadata": {},
   "outputs": [
    {
     "data": {
      "text/html": [
       "<div>\n",
       "<style scoped>\n",
       "    .dataframe tbody tr th:only-of-type {\n",
       "        vertical-align: middle;\n",
       "    }\n",
       "\n",
       "    .dataframe tbody tr th {\n",
       "        vertical-align: top;\n",
       "    }\n",
       "\n",
       "    .dataframe thead th {\n",
       "        text-align: right;\n",
       "    }\n",
       "</style>\n",
       "<table border=\"1\" class=\"dataframe\">\n",
       "  <thead>\n",
       "    <tr style=\"text-align: right;\">\n",
       "      <th></th>\n",
       "      <th>Sex</th>\n",
       "    </tr>\n",
       "  </thead>\n",
       "  <tbody>\n",
       "    <tr>\n",
       "      <th>0</th>\n",
       "      <td>2</td>\n",
       "    </tr>\n",
       "    <tr>\n",
       "      <th>1</th>\n",
       "      <td>1</td>\n",
       "    </tr>\n",
       "    <tr>\n",
       "      <th>2</th>\n",
       "      <td>2</td>\n",
       "    </tr>\n",
       "    <tr>\n",
       "      <th>3</th>\n",
       "      <td>2</td>\n",
       "    </tr>\n",
       "    <tr>\n",
       "      <th>4</th>\n",
       "      <td>2</td>\n",
       "    </tr>\n",
       "    <tr>\n",
       "      <th>...</th>\n",
       "      <td>...</td>\n",
       "    </tr>\n",
       "    <tr>\n",
       "      <th>133394</th>\n",
       "      <td>1</td>\n",
       "    </tr>\n",
       "    <tr>\n",
       "      <th>133395</th>\n",
       "      <td>1</td>\n",
       "    </tr>\n",
       "    <tr>\n",
       "      <th>133396</th>\n",
       "      <td>1</td>\n",
       "    </tr>\n",
       "    <tr>\n",
       "      <th>133397</th>\n",
       "      <td>2</td>\n",
       "    </tr>\n",
       "    <tr>\n",
       "      <th>133398</th>\n",
       "      <td>1</td>\n",
       "    </tr>\n",
       "  </tbody>\n",
       "</table>\n",
       "<p>133399 rows × 1 columns</p>\n",
       "</div>"
      ],
      "text/plain": [
       "        Sex\n",
       "0         2\n",
       "1         1\n",
       "2         2\n",
       "3         2\n",
       "4         2\n",
       "...     ...\n",
       "133394    1\n",
       "133395    1\n",
       "133396    1\n",
       "133397    2\n",
       "133398    1\n",
       "\n",
       "[133399 rows x 1 columns]"
      ]
     },
     "execution_count": 34,
     "metadata": {},
     "output_type": "execute_result"
    }
   ],
   "source": [
    "Gender_encod = pd.DataFrame(Gender_values, columns=['Sex'])\n",
    "Gender_encod"
   ]
  },
  {
   "cell_type": "code",
   "execution_count": 35,
   "id": "0c253470",
   "metadata": {},
   "outputs": [],
   "source": [
    "Patients_Data_New = pd.concat([df_Ser, df_date, df_age, Gender_encod, strings], axis=1) "
   ]
  },
  {
   "cell_type": "code",
   "execution_count": 36,
   "id": "a4e561cb",
   "metadata": {},
   "outputs": [
    {
     "data": {
      "text/plain": [
       "Address           \n",
       "GOWALMANDI,LAHORE     35247\n",
       "NISBAT ROAD,LAHORE     4562\n",
       "SHEKHUPURA             3094\n",
       "SHAHDARA LHR           1803\n",
       "SHAHDARA               1525\n",
       "                      ...  \n",
       "BEGAM KO LHR              1\n",
       "BEEKU ROAD                1\n",
       "BEEKO                     1\n",
       "BEDOR RD LHR              1\n",
       "SHADRA FAROZ WALA         1\n",
       "Length: 13492, dtype: int64"
      ]
     },
     "execution_count": 36,
     "metadata": {},
     "output_type": "execute_result"
    }
   ],
   "source": [
    "df_address = df[['Address']]\n",
    "df_address_unique = df_address.value_counts()\n",
    "df_address_unique"
   ]
  },
  {
   "cell_type": "code",
   "execution_count": 37,
   "id": "25093f5a",
   "metadata": {},
   "outputs": [
    {
     "data": {
      "text/plain": [
       "[<matplotlib.lines.Line2D at 0x2034429b850>]"
      ]
     },
     "execution_count": 37,
     "metadata": {},
     "output_type": "execute_result"
    },
    {
     "data": {
      "image/png": "[encoded data removed]",
      "text/plain": [
       "<Figure size 640x480 with 1 Axes>"
      ]
     },
     "metadata": {},
     "output_type": "display_data"
    }
   ],
   "source": [
    "from scipy.stats import norm\n",
    "import numpy as np\n",
    "plt.hist(df_address_unique, bins=80, rwidth=0.8, density=True)\n",
    "plt.xlabel('Address')\n",
    "plt.ylabel('Count')\n",
    "\n",
    "rng = np.arange(df_address_unique.min(), df_address_unique.max(), 0.1)\n",
    "plt.plot(rng, norm.pdf(rng,df_address_unique.mean(),df_address_unique.std()))"
   ]
  },
  {
   "cell_type": "code",
   "execution_count": null,
   "id": "f33e191e",
   "metadata": {},
   "outputs": [],
   "source": []
  },
  {
   "cell_type": "code",
   "execution_count": null,
   "id": "113d697f",
   "metadata": {},
   "outputs": [],
   "source": []
  },
  {
   "cell_type": "code",
   "execution_count": 38,
   "id": "dac4983c",
   "metadata": {},
   "outputs": [
    {
     "data": {
      "text/plain": [
       "Address           \n",
       "GOWALMANDI,LAHORE     114.012469\n",
       "NISBAT ROAD,LAHORE     14.728721\n",
       "SHEKHUPURA              9.978891\n",
       "SHAHDARA LHR            5.801758\n",
       "SHAHDARA                4.902267\n",
       "                         ...    \n",
       "BEGAM KO LHR           -0.028755\n",
       "BEEKU ROAD             -0.028755\n",
       "BEEKO                  -0.028755\n",
       "BEDOR RD LHR           -0.028755\n",
       "SHADRA FAROZ WALA      -0.028755\n",
       "Length: 13492, dtype: float64"
      ]
     },
     "execution_count": 38,
     "metadata": {},
     "output_type": "execute_result"
    }
   ],
   "source": [
    "#removing outliers using zscore method\n",
    "zscore = ( df_address_unique - df_address_unique.mean() ) / df_address_unique.std()\n",
    "zscore"
   ]
  },
  {
   "cell_type": "code",
   "execution_count": 39,
   "id": "1d14302f",
   "metadata": {},
   "outputs": [
    {
     "data": {
      "text/plain": [
       "Address           \n",
       "GOWALMANDI,LAHORE     114.012469\n",
       "NISBAT ROAD,LAHORE     14.728721\n",
       "SHEKHUPURA              9.978891\n",
       "SHAHDARA LHR            5.801758\n",
       "SHAHDARA                4.902267\n",
       "BADAMI BAGH LHR         3.116228\n",
       "dtype: float64"
      ]
     },
     "execution_count": 39,
     "metadata": {},
     "output_type": "execute_result"
    }
   ],
   "source": [
    "zscore[zscore>3]"
   ]
  },
  {
   "cell_type": "code",
   "execution_count": 40,
   "id": "49d05b15",
   "metadata": {},
   "outputs": [
    {
     "data": {
      "text/plain": [
       "Series([], dtype: float64)"
      ]
     },
     "execution_count": 40,
     "metadata": {},
     "output_type": "execute_result"
    }
   ],
   "source": [
    "zscore[zscore<-3]"
   ]
  },
  {
   "cell_type": "code",
   "execution_count": 41,
   "id": "d86c82e0",
   "metadata": {},
   "outputs": [
    {
     "data": {
      "text/plain": [
       "Address           \n",
       "MOZANG,LAHORE         2.957684\n",
       "MISRISHAH,LAHORE      2.782963\n",
       "MUGHALPURA,LAHORE     2.433521\n",
       "GUWAL MANDI LHR       2.397929\n",
       "RAVI RD LHR           2.249093\n",
       "                        ...   \n",
       "BEGAM KO LHR         -0.028755\n",
       "BEEKU ROAD           -0.028755\n",
       "BEEKO                -0.028755\n",
       "BEDOR RD LHR         -0.028755\n",
       "SHADRA FAROZ WALA    -0.028755\n",
       "Length: 13486, dtype: float64"
      ]
     },
     "execution_count": 41,
     "metadata": {},
     "output_type": "execute_result"
    }
   ],
   "source": [
    "df_no_outliers = zscore[(zscore > -3) & (zscore < 3)]\n",
    "df_no_outliers"
   ]
  },
  {
   "cell_type": "code",
   "execution_count": 42,
   "id": "1e9e5985",
   "metadata": {},
   "outputs": [],
   "source": [
    "#df_no_outliers.isna().sum()"
   ]
  },
  {
   "cell_type": "code",
   "execution_count": 43,
   "id": "bea752fc",
   "metadata": {},
   "outputs": [],
   "source": [
    "#df_no_outliers[df_no_outliers['Sex'].isna()]\n",
    "#df_no_outliers['Sex'].fillna(0, inplace = True)\n",
    "#df_no_outliers.isna().sum()"
   ]
  },
  {
   "cell_type": "code",
   "execution_count": 44,
   "id": "aa23e52b",
   "metadata": {},
   "outputs": [],
   "source": [
    "Patients_Data_New.to_csv('whole_data_refined.csv', index = False, header=True)"
   ]
  },
  {
   "cell_type": "code",
   "execution_count": 45,
   "id": "94ad152e",
   "metadata": {},
   "outputs": [
    {
     "data": {
      "text/plain": [
       "array([[<AxesSubplot: title={'center': 'Age'}>,\n",
       "        <AxesSubplot: title={'center': 'Sex'}>]], dtype=object)"
      ]
     },
     "execution_count": 45,
     "metadata": {},
     "output_type": "execute_result"
    },
    {
     "data": {
      "image/png": "[encoded data removed]",
      "text/plain": [
       "<Figure size 2000x1000 with 2 Axes>"
      ]
     },
     "metadata": {},
     "output_type": "display_data"
    }
   ],
   "source": [
    "Patients_Data_New.hist(bins=80, figsize=(20,10)) "
   ]
  },
  {
   "cell_type": "code",
   "execution_count": null,
   "id": "b0a3861c",
   "metadata": {},
   "outputs": [],
   "source": []
  }
 ],
 "metadata": {
  "kernelspec": {
   "display_name": "geo_env",
   "language": "python",
   "name": "geo_env"
  },
  "language_info": {
   "codemirror_mode": {
    "name": "ipython",
    "version": 3
   },
   "file_extension": ".py",
   "mimetype": "text/x-python",
   "name": "python",
   "nbconvert_exporter": "python",
   "pygments_lexer": "ipython3",
   "version": "3.10.6"
  }
 },
 "nbformat": 4,
 "nbformat_minor": 5
}
